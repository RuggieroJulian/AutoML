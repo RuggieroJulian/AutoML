{
 "cells": [
  {
   "cell_type": "markdown",
   "metadata": {},
   "source": [
    "# Product Studio Final Project\n",
    "\n",
    "## Predicting Housing Prices in Cordoba State - Argentina\n",
    "\n",
    "### Authors: \n",
    "- __Rachel Ward__ <br>\n",
    "- __Julian Ruggiero__"
   ]
  },
  {
   "attachments": {},
   "cell_type": "markdown",
   "metadata": {},
   "source": [
    "## Data Dictionary\n",
    "For our first data source we take properties listing located at https://www.properati.com.ar/data/. Properati Data is the data division of Properati, the Latin American real estate search site.\n",
    "\n",
    "On this page we can find links to different tools and data sets to use them freely in this project. We will be using properties published in Argentina under [this](https://storage.googleapis.com/properati-data-public/ar_properties.csv.gz) dataset."
   ]
  },
  {
   "cell_type": "markdown",
   "metadata": {},
   "source": [
    "## Exploratory Data Analysis"
   ]
  },
  {
   "cell_type": "code",
   "execution_count": 3,
   "metadata": {},
   "outputs": [],
   "source": [
    "import pandas as pd\n",
    "\n",
    "# getting data\n",
    "df = pd.read_csv('ar_properties.csv')"
   ]
  },
  {
   "cell_type": "code",
   "execution_count": 4,
   "metadata": {},
   "outputs": [
    {
     "data": {
      "text/plain": [
       "Index(['id', 'ad_type', 'start_date', 'end_date', 'created_on', 'lat', 'lon',\n",
       "       'l1', 'l2', 'l3', 'l4', 'l5', 'l6', 'rooms', 'bedrooms', 'bathrooms',\n",
       "       'surface_total', 'surface_covered', 'price', 'currency', 'price_period',\n",
       "       'title', 'description', 'property_type', 'operation_type'],\n",
       "      dtype='object')"
      ]
     },
     "execution_count": 4,
     "metadata": {},
     "output_type": "execute_result"
    }
   ],
   "source": [
    "# checking columns\n",
    "df.columns"
   ]
  },
  {
   "cell_type": "code",
   "execution_count": 5,
   "metadata": {},
   "outputs": [
    {
     "data": {
      "text/plain": [
       "Venta                776883\n",
       "Alquiler             191278\n",
       "Alquiler temporal     31839\n",
       "Name: operation_type, dtype: int64"
      ]
     },
     "execution_count": 5,
     "metadata": {},
     "output_type": "execute_result"
    }
   ],
   "source": [
    "df.operation_type.value_counts()"
   ]
  },
  {
   "cell_type": "code",
   "execution_count": 6,
   "metadata": {},
   "outputs": [
    {
     "data": {
      "text/plain": [
       "(49307, 25)"
      ]
     },
     "execution_count": 6,
     "metadata": {},
     "output_type": "execute_result"
    }
   ],
   "source": [
    "# getting only records from Cordoba State and for Sale\n",
    "df = df[(df.l2 == 'Córdoba') & (df.operation_type == 'Venta')]\n",
    "df.shape"
   ]
  },
  {
   "cell_type": "code",
   "execution_count": 7,
   "metadata": {},
   "outputs": [
    {
     "data": {
      "text/html": [
       "<div>\n",
       "<style scoped>\n",
       "    .dataframe tbody tr th:only-of-type {\n",
       "        vertical-align: middle;\n",
       "    }\n",
       "\n",
       "    .dataframe tbody tr th {\n",
       "        vertical-align: top;\n",
       "    }\n",
       "\n",
       "    .dataframe thead th {\n",
       "        text-align: right;\n",
       "    }\n",
       "</style>\n",
       "<table border=\"1\" class=\"dataframe\">\n",
       "  <thead>\n",
       "    <tr style=\"text-align: right;\">\n",
       "      <th></th>\n",
       "      <th>index</th>\n",
       "      <th>id</th>\n",
       "      <th>ad_type</th>\n",
       "      <th>start_date</th>\n",
       "      <th>end_date</th>\n",
       "      <th>created_on</th>\n",
       "      <th>lat</th>\n",
       "      <th>lon</th>\n",
       "      <th>l1</th>\n",
       "      <th>l2</th>\n",
       "      <th>l3</th>\n",
       "      <th>l4</th>\n",
       "      <th>l5</th>\n",
       "      <th>l6</th>\n",
       "      <th>rooms</th>\n",
       "      <th>bedrooms</th>\n",
       "      <th>bathrooms</th>\n",
       "      <th>surface_total</th>\n",
       "      <th>surface_covered</th>\n",
       "      <th>price</th>\n",
       "      <th>currency</th>\n",
       "      <th>price_period</th>\n",
       "      <th>title</th>\n",
       "      <th>description</th>\n",
       "      <th>property_type</th>\n",
       "      <th>operation_type</th>\n",
       "    </tr>\n",
       "  </thead>\n",
       "  <tbody>\n",
       "    <tr>\n",
       "      <th>0</th>\n",
       "      <td>9</td>\n",
       "      <td>a6/+5gA0rftdR7oO+ZP5Og==</td>\n",
       "      <td>Propiedad</td>\n",
       "      <td>2019-11-17</td>\n",
       "      <td>2020-01-07</td>\n",
       "      <td>2019-11-17</td>\n",
       "      <td>-31.084896</td>\n",
       "      <td>-64.309776</td>\n",
       "      <td>Argentina</td>\n",
       "      <td>Córdoba</td>\n",
       "      <td>Villa Cerro Azul</td>\n",
       "      <td>NaN</td>\n",
       "      <td>NaN</td>\n",
       "      <td>NaN</td>\n",
       "      <td>NaN</td>\n",
       "      <td>NaN</td>\n",
       "      <td>NaN</td>\n",
       "      <td>430.0</td>\n",
       "      <td>NaN</td>\n",
       "      <td>NaN</td>\n",
       "      <td>NaN</td>\n",
       "      <td>NaN</td>\n",
       "      <td>Lima  100 - U$D 2.500 - Terreno en Venta</td>\n",
       "      <td>Terreno virgen en esquina sobre la avenida Lim...</td>\n",
       "      <td>Lote</td>\n",
       "      <td>Venta</td>\n",
       "    </tr>\n",
       "    <tr>\n",
       "      <th>1</th>\n",
       "      <td>25</td>\n",
       "      <td>pCrMwMkWbvkPDcx8zppfoQ==</td>\n",
       "      <td>Propiedad</td>\n",
       "      <td>2019-11-17</td>\n",
       "      <td>2020-02-07</td>\n",
       "      <td>2019-11-17</td>\n",
       "      <td>-31.411503</td>\n",
       "      <td>-64.164228</td>\n",
       "      <td>Argentina</td>\n",
       "      <td>Córdoba</td>\n",
       "      <td>Córdoba</td>\n",
       "      <td>NaN</td>\n",
       "      <td>NaN</td>\n",
       "      <td>NaN</td>\n",
       "      <td>2.0</td>\n",
       "      <td>1.0</td>\n",
       "      <td>1.0</td>\n",
       "      <td>57.0</td>\n",
       "      <td>45.0</td>\n",
       "      <td>NaN</td>\n",
       "      <td>NaN</td>\n",
       "      <td>NaN</td>\n",
       "      <td>DEPTO 1 DORMITORIO CON BALCON GENERAL PAZ CORDOBA</td>\n",
       "      <td>Corredor Responsable: Juan Manuel Quiroga - CP...</td>\n",
       "      <td>Departamento</td>\n",
       "      <td>Venta</td>\n",
       "    </tr>\n",
       "  </tbody>\n",
       "</table>\n",
       "</div>"
      ],
      "text/plain": [
       "   index                        id    ad_type  start_date    end_date  \\\n",
       "0      9  a6/+5gA0rftdR7oO+ZP5Og==  Propiedad  2019-11-17  2020-01-07   \n",
       "1     25  pCrMwMkWbvkPDcx8zppfoQ==  Propiedad  2019-11-17  2020-02-07   \n",
       "\n",
       "   created_on        lat        lon         l1       l2                l3  \\\n",
       "0  2019-11-17 -31.084896 -64.309776  Argentina  Córdoba  Villa Cerro Azul   \n",
       "1  2019-11-17 -31.411503 -64.164228  Argentina  Córdoba           Córdoba   \n",
       "\n",
       "    l4   l5  l6  rooms  bedrooms  bathrooms  surface_total  surface_covered  \\\n",
       "0  NaN  NaN NaN    NaN       NaN        NaN          430.0              NaN   \n",
       "1  NaN  NaN NaN    2.0       1.0        1.0           57.0             45.0   \n",
       "\n",
       "   price currency price_period  \\\n",
       "0    NaN      NaN          NaN   \n",
       "1    NaN      NaN          NaN   \n",
       "\n",
       "                                               title  \\\n",
       "0           Lima  100 - U$D 2.500 - Terreno en Venta   \n",
       "1  DEPTO 1 DORMITORIO CON BALCON GENERAL PAZ CORDOBA   \n",
       "\n",
       "                                         description property_type  \\\n",
       "0  Terreno virgen en esquina sobre la avenida Lim...          Lote   \n",
       "1  Corredor Responsable: Juan Manuel Quiroga - CP...  Departamento   \n",
       "\n",
       "  operation_type  \n",
       "0          Venta  \n",
       "1          Venta  "
      ]
     },
     "execution_count": 7,
     "metadata": {},
     "output_type": "execute_result"
    }
   ],
   "source": [
    "# sanity check\n",
    "pd.set_option('display.max_columns', None)\n",
    "df.reset_index(inplace=True)\n",
    "df.head(2)"
   ]
  },
  {
   "cell_type": "code",
   "execution_count": 8,
   "metadata": {},
   "outputs": [
    {
     "data": {
      "text/plain": [
       "Propiedad    49307\n",
       "Name: ad_type, dtype: int64"
      ]
     },
     "execution_count": 8,
     "metadata": {},
     "output_type": "execute_result"
    }
   ],
   "source": [
    "# checking ad_type values\n",
    "df.ad_type.value_counts()"
   ]
  },
  {
   "cell_type": "code",
   "execution_count": 9,
   "metadata": {},
   "outputs": [
    {
     "data": {
      "text/plain": [
       "Mensual    11312\n",
       "Name: price_period, dtype: int64"
      ]
     },
     "execution_count": 9,
     "metadata": {},
     "output_type": "execute_result"
    }
   ],
   "source": [
    "# checking ad_type values\n",
    "df.price_period.value_counts()"
   ]
  },
  {
   "cell_type": "markdown",
   "metadata": {},
   "source": [
    "The following columns can be excluded:\n",
    "- id: it does not add any value for a ML model.\n",
    "- ad_type: it has only one unique value.\n",
    "- start_date and end_date: we will consider only the created_on date to get the appropriate currency value if it applies.\n",
    "- lat and lon: not needed for ML purposes.\n",
    "- l1: refers to the country, we only working with Argentina.\n",
    "- l2: refers to the state, we only working with 'Cordoba' state.\n",
    "- l5: has all null values.\n",
    "- l6: has all null values.\n",
    "- price_period: has only one value.\n",
    "- title: not needed for ML purposes.\n",
    "- description: not needed for ML purposes."
   ]
  },
  {
   "cell_type": "code",
   "execution_count": 10,
   "metadata": {},
   "outputs": [],
   "source": [
    "# renaming\n",
    "df.rename(columns={'l3': 'city', 'l4': 'neighborhood'},\n",
    "         inplace=True)\n",
    "\n",
    "# selecting columns\n",
    "columns = ['created_on', 'city', 'neighborhood', 'rooms', 'bedrooms', 'bathrooms', 'surface_total', 'surface_covered', \n",
    "          'price', 'currency', 'property_type']"
   ]
  },
  {
   "cell_type": "code",
   "execution_count": 11,
   "metadata": {},
   "outputs": [
    {
     "data": {
      "text/html": [
       "<div>\n",
       "<style scoped>\n",
       "    .dataframe tbody tr th:only-of-type {\n",
       "        vertical-align: middle;\n",
       "    }\n",
       "\n",
       "    .dataframe tbody tr th {\n",
       "        vertical-align: top;\n",
       "    }\n",
       "\n",
       "    .dataframe thead th {\n",
       "        text-align: right;\n",
       "    }\n",
       "</style>\n",
       "<table border=\"1\" class=\"dataframe\">\n",
       "  <thead>\n",
       "    <tr style=\"text-align: right;\">\n",
       "      <th></th>\n",
       "      <th>created_on</th>\n",
       "      <th>city</th>\n",
       "      <th>neighborhood</th>\n",
       "      <th>rooms</th>\n",
       "      <th>bedrooms</th>\n",
       "      <th>bathrooms</th>\n",
       "      <th>surface_total</th>\n",
       "      <th>surface_covered</th>\n",
       "      <th>price</th>\n",
       "      <th>currency</th>\n",
       "      <th>property_type</th>\n",
       "    </tr>\n",
       "  </thead>\n",
       "  <tbody>\n",
       "    <tr>\n",
       "      <th>0</th>\n",
       "      <td>2019-11-17</td>\n",
       "      <td>Villa Cerro Azul</td>\n",
       "      <td>NaN</td>\n",
       "      <td>NaN</td>\n",
       "      <td>NaN</td>\n",
       "      <td>NaN</td>\n",
       "      <td>430.0</td>\n",
       "      <td>NaN</td>\n",
       "      <td>NaN</td>\n",
       "      <td>NaN</td>\n",
       "      <td>Lote</td>\n",
       "    </tr>\n",
       "    <tr>\n",
       "      <th>1</th>\n",
       "      <td>2019-11-17</td>\n",
       "      <td>Córdoba</td>\n",
       "      <td>NaN</td>\n",
       "      <td>2.0</td>\n",
       "      <td>1.0</td>\n",
       "      <td>1.0</td>\n",
       "      <td>57.0</td>\n",
       "      <td>45.0</td>\n",
       "      <td>NaN</td>\n",
       "      <td>NaN</td>\n",
       "      <td>Departamento</td>\n",
       "    </tr>\n",
       "  </tbody>\n",
       "</table>\n",
       "</div>"
      ],
      "text/plain": [
       "   created_on              city neighborhood  rooms  bedrooms  bathrooms  \\\n",
       "0  2019-11-17  Villa Cerro Azul          NaN    NaN       NaN        NaN   \n",
       "1  2019-11-17           Córdoba          NaN    2.0       1.0        1.0   \n",
       "\n",
       "   surface_total  surface_covered  price currency property_type  \n",
       "0          430.0              NaN    NaN      NaN          Lote  \n",
       "1           57.0             45.0    NaN      NaN  Departamento  "
      ]
     },
     "execution_count": 11,
     "metadata": {},
     "output_type": "execute_result"
    }
   ],
   "source": [
    "# sanity check\n",
    "df = df[columns]\n",
    "df.head(2)"
   ]
  },
  {
   "cell_type": "code",
   "execution_count": 12,
   "metadata": {},
   "outputs": [
    {
     "name": "stdout",
     "output_type": "stream",
     "text": [
      "<class 'pandas.core.frame.DataFrame'>\n",
      "RangeIndex: 49307 entries, 0 to 49306\n",
      "Data columns (total 11 columns):\n",
      " #   Column           Non-Null Count  Dtype  \n",
      "---  ------           --------------  -----  \n",
      " 0   created_on       49307 non-null  object \n",
      " 1   city             37758 non-null  object \n",
      " 2   neighborhood     6212 non-null   object \n",
      " 3   rooms            18774 non-null  float64\n",
      " 4   bedrooms         11411 non-null  float64\n",
      " 5   bathrooms        33012 non-null  float64\n",
      " 6   surface_total    9817 non-null   float64\n",
      " 7   surface_covered  16448 non-null  float64\n",
      " 8   price            47380 non-null  float64\n",
      " 9   currency         47324 non-null  object \n",
      " 10  property_type    49307 non-null  object \n",
      "dtypes: float64(6), object(5)\n",
      "memory usage: 4.1+ MB\n"
     ]
    }
   ],
   "source": [
    "# chequing data types\n",
    "df.info()"
   ]
  },
  {
   "cell_type": "markdown",
   "metadata": {},
   "source": [
    "Despite we have latitude and longitude, we were not able to get neighborhood name, as it has a very particular naming based on Cordoba region. We tried several API services and results were not that accurate, so we rather work with the records that have a valid value in neighborhood."
   ]
  },
  {
   "cell_type": "code",
   "execution_count": 13,
   "metadata": {},
   "outputs": [
    {
     "data": {
      "text/plain": [
       "(5831, 11)"
      ]
     },
     "execution_count": 13,
     "metadata": {},
     "output_type": "execute_result"
    }
   ],
   "source": [
    "df = df[(df.city.notna()) & (df.neighborhood.notna()) & (df.currency.notna()) & (df.price.notna())]\n",
    "df.shape"
   ]
  },
  {
   "cell_type": "markdown",
   "metadata": {},
   "source": [
    "We saw that __property_type__ values are in Spanish, we will translate them to English."
   ]
  },
  {
   "cell_type": "code",
   "execution_count": 14,
   "metadata": {},
   "outputs": [
    {
     "data": {
      "text/plain": [
       "Departamento       4555\n",
       "Oficina             376\n",
       "Casa                275\n",
       "Cochera             188\n",
       "Lote                154\n",
       "Local comercial     133\n",
       "Otro                 73\n",
       "PH                   72\n",
       "Casa de campo         3\n",
       "Depósito              2\n",
       "Name: property_type, dtype: int64"
      ]
     },
     "execution_count": 14,
     "metadata": {},
     "output_type": "execute_result"
    }
   ],
   "source": [
    "df.property_type.value_counts()"
   ]
  },
  {
   "cell_type": "code",
   "execution_count": 15,
   "metadata": {},
   "outputs": [
    {
     "data": {
      "text/plain": [
       "apartment              4555\n",
       "office                  376\n",
       "house                   275\n",
       "garage                  188\n",
       "land                    154\n",
       "store                   133\n",
       "other                    73\n",
       "horizontal_property      72\n",
       "farm_house                3\n",
       "warehouse                 2\n",
       "Name: property_type, dtype: int64"
      ]
     },
     "execution_count": 15,
     "metadata": {},
     "output_type": "execute_result"
    }
   ],
   "source": [
    "# translating values\n",
    "df.property_type.replace({'Otro': 'other', \n",
    "                          'Casa': 'house',\n",
    "                          'Departamento': 'apartment',\n",
    "                          'Lote': 'land',\n",
    "                          'PH': 'horizontal_property',\n",
    "                          'Oficina': 'office',\n",
    "                          'Local comercial': 'store',\n",
    "                          'Cochera': 'garage',\n",
    "                          'Casa de campo': 'farm_house',\n",
    "                          'Depósito': 'warehouse'}, inplace=True)\n",
    "\n",
    "# sanity check\n",
    "df.property_type.value_counts()"
   ]
  },
  {
   "cell_type": "code",
   "execution_count": 16,
   "metadata": {},
   "outputs": [
    {
     "name": "stdout",
     "output_type": "stream",
     "text": [
      "<class 'pandas.core.frame.DataFrame'>\n",
      "Int64Index: 5831 entries, 6 to 49064\n",
      "Data columns (total 11 columns):\n",
      " #   Column           Non-Null Count  Dtype  \n",
      "---  ------           --------------  -----  \n",
      " 0   created_on       5831 non-null   object \n",
      " 1   city             5831 non-null   object \n",
      " 2   neighborhood     5831 non-null   object \n",
      " 3   rooms            4609 non-null   float64\n",
      " 4   bedrooms         1943 non-null   float64\n",
      " 5   bathrooms        5118 non-null   float64\n",
      " 6   surface_total    1371 non-null   float64\n",
      " 7   surface_covered  3731 non-null   float64\n",
      " 8   price            5831 non-null   float64\n",
      " 9   currency         5831 non-null   object \n",
      " 10  property_type    5831 non-null   object \n",
      "dtypes: float64(6), object(5)\n",
      "memory usage: 546.7+ KB\n"
     ]
    }
   ],
   "source": [
    "df.info()"
   ]
  },
  {
   "cell_type": "markdown",
   "metadata": {},
   "source": [
    "Chequing missing values"
   ]
  },
  {
   "cell_type": "code",
   "execution_count": 17,
   "metadata": {},
   "outputs": [
    {
     "data": {
      "text/html": [
       "<div>\n",
       "<style scoped>\n",
       "    .dataframe tbody tr th:only-of-type {\n",
       "        vertical-align: middle;\n",
       "    }\n",
       "\n",
       "    .dataframe tbody tr th {\n",
       "        vertical-align: top;\n",
       "    }\n",
       "\n",
       "    .dataframe thead th {\n",
       "        text-align: right;\n",
       "    }\n",
       "</style>\n",
       "<table border=\"1\" class=\"dataframe\">\n",
       "  <thead>\n",
       "    <tr style=\"text-align: right;\">\n",
       "      <th></th>\n",
       "      <th># Missing</th>\n",
       "      <th>% of Total</th>\n",
       "    </tr>\n",
       "  </thead>\n",
       "  <tbody>\n",
       "    <tr>\n",
       "      <th>created_on</th>\n",
       "      <td>0</td>\n",
       "      <td>0.000000</td>\n",
       "    </tr>\n",
       "    <tr>\n",
       "      <th>city</th>\n",
       "      <td>0</td>\n",
       "      <td>0.000000</td>\n",
       "    </tr>\n",
       "    <tr>\n",
       "      <th>neighborhood</th>\n",
       "      <td>0</td>\n",
       "      <td>0.000000</td>\n",
       "    </tr>\n",
       "    <tr>\n",
       "      <th>rooms</th>\n",
       "      <td>1222</td>\n",
       "      <td>20.956954</td>\n",
       "    </tr>\n",
       "    <tr>\n",
       "      <th>bedrooms</th>\n",
       "      <td>3888</td>\n",
       "      <td>66.678100</td>\n",
       "    </tr>\n",
       "    <tr>\n",
       "      <th>bathrooms</th>\n",
       "      <td>713</td>\n",
       "      <td>12.227748</td>\n",
       "    </tr>\n",
       "    <tr>\n",
       "      <th>surface_total</th>\n",
       "      <td>4460</td>\n",
       "      <td>76.487738</td>\n",
       "    </tr>\n",
       "    <tr>\n",
       "      <th>surface_covered</th>\n",
       "      <td>2100</td>\n",
       "      <td>36.014406</td>\n",
       "    </tr>\n",
       "    <tr>\n",
       "      <th>price</th>\n",
       "      <td>0</td>\n",
       "      <td>0.000000</td>\n",
       "    </tr>\n",
       "    <tr>\n",
       "      <th>currency</th>\n",
       "      <td>0</td>\n",
       "      <td>0.000000</td>\n",
       "    </tr>\n",
       "    <tr>\n",
       "      <th>property_type</th>\n",
       "      <td>0</td>\n",
       "      <td>0.000000</td>\n",
       "    </tr>\n",
       "  </tbody>\n",
       "</table>\n",
       "</div>"
      ],
      "text/plain": [
       "                 # Missing  % of Total\n",
       "created_on               0    0.000000\n",
       "city                     0    0.000000\n",
       "neighborhood             0    0.000000\n",
       "rooms                 1222   20.956954\n",
       "bedrooms              3888   66.678100\n",
       "bathrooms              713   12.227748\n",
       "surface_total         4460   76.487738\n",
       "surface_covered       2100   36.014406\n",
       "price                    0    0.000000\n",
       "currency                 0    0.000000\n",
       "property_type            0    0.000000"
      ]
     },
     "execution_count": 17,
     "metadata": {},
     "output_type": "execute_result"
    }
   ],
   "source": [
    "null_count = df.isnull().sum()\n",
    "\n",
    "# get percent of missing data\n",
    "missing = df.isnull().mean() * 100\n",
    "\n",
    "#creating a dictionary with the count of null and negative values\n",
    "d = {'# Missing':null_count,'% of Total':missing}\n",
    "pd.DataFrame(d)"
   ]
  },
  {
   "cell_type": "markdown",
   "metadata": {},
   "source": [
    "We see a high number of missing values for several fields. We consider these columns to be potential good predictors, so we won't delete them, but impute the missing values using KNN imputer from Sklearn."
   ]
  },
  {
   "cell_type": "markdown",
   "metadata": {},
   "source": [
    "### Unify currency"
   ]
  },
  {
   "cell_type": "code",
   "execution_count": 18,
   "metadata": {},
   "outputs": [
    {
     "data": {
      "text/plain": [
       "USD    5590\n",
       "ARS     241\n",
       "Name: currency, dtype: int64"
      ]
     },
     "execution_count": 18,
     "metadata": {},
     "output_type": "execute_result"
    }
   ],
   "source": [
    "# checking currency values\n",
    "df.currency.value_counts()"
   ]
  },
  {
   "cell_type": "markdown",
   "metadata": {},
   "source": [
    "We need to unify currencies, and as the majority of the properties are in USD, then we will convert everything to USD. For this, we will get the corresponding ARS value in the date the property was posted and transform the price to the appropriate USD value."
   ]
  },
  {
   "cell_type": "code",
   "execution_count": 19,
   "metadata": {},
   "outputs": [
    {
     "data": {
      "text/plain": [
       "97"
      ]
     },
     "execution_count": 19,
     "metadata": {},
     "output_type": "execute_result"
    }
   ],
   "source": [
    "# getting dates to get convertion rates\n",
    "currency_dates = df[df.currency == 'ARS'].created_on.unique()\n",
    "len(currency_dates)"
   ]
  },
  {
   "cell_type": "code",
   "execution_count": 20,
   "metadata": {},
   "outputs": [],
   "source": [
    "import requests\n",
    "currency = {}\n",
    "for date in currency_dates:\n",
    "    if date not in currency.keys():\n",
    "        response = requests.get('http://api.currencylayer.com/historical?access_key=ab17a2ddeb50e743484559f30bd83a13&date='+date)\n",
    "        key = response.json()['date']\n",
    "        value = response.json()['quotes']['USDARS']\n",
    "        currency[key] = value"
   ]
  },
  {
   "cell_type": "code",
   "execution_count": 21,
   "metadata": {},
   "outputs": [],
   "source": [
    "# convert dictionary to dataframe and export as csv\n",
    "df_currency = pd.DataFrame(currency.items(),\n",
    "                          columns=['created_on', 'ARS_to_USD'])\n",
    "df_currency.sort_values(by=['created_on']).to_csv('currency_conversion.csv', index=False)"
   ]
  },
  {
   "cell_type": "markdown",
   "metadata": {},
   "source": [
    "Update the __price__ value for those records that have ARS as __currency__"
   ]
  },
  {
   "cell_type": "code",
   "execution_count": 22,
   "metadata": {},
   "outputs": [
    {
     "data": {
      "text/html": [
       "<div>\n",
       "<style scoped>\n",
       "    .dataframe tbody tr th:only-of-type {\n",
       "        vertical-align: middle;\n",
       "    }\n",
       "\n",
       "    .dataframe tbody tr th {\n",
       "        vertical-align: top;\n",
       "    }\n",
       "\n",
       "    .dataframe thead th {\n",
       "        text-align: right;\n",
       "    }\n",
       "</style>\n",
       "<table border=\"1\" class=\"dataframe\">\n",
       "  <thead>\n",
       "    <tr style=\"text-align: right;\">\n",
       "      <th></th>\n",
       "      <th>created_on</th>\n",
       "      <th>city</th>\n",
       "      <th>neighborhood</th>\n",
       "      <th>rooms</th>\n",
       "      <th>bedrooms</th>\n",
       "      <th>bathrooms</th>\n",
       "      <th>surface_total</th>\n",
       "      <th>surface_covered</th>\n",
       "      <th>price</th>\n",
       "      <th>currency</th>\n",
       "      <th>property_type</th>\n",
       "    </tr>\n",
       "  </thead>\n",
       "  <tbody>\n",
       "    <tr>\n",
       "      <th>37</th>\n",
       "      <td>2020-08-01</td>\n",
       "      <td>Córdoba</td>\n",
       "      <td>Nueva Córdoba</td>\n",
       "      <td>3.0</td>\n",
       "      <td>2.0</td>\n",
       "      <td>1.0</td>\n",
       "      <td>NaN</td>\n",
       "      <td>NaN</td>\n",
       "      <td>7500000.0</td>\n",
       "      <td>ARS</td>\n",
       "      <td>apartment</td>\n",
       "    </tr>\n",
       "    <tr>\n",
       "      <th>445</th>\n",
       "      <td>2020-06-01</td>\n",
       "      <td>Córdoba</td>\n",
       "      <td>Nueva Córdoba</td>\n",
       "      <td>NaN</td>\n",
       "      <td>NaN</td>\n",
       "      <td>NaN</td>\n",
       "      <td>NaN</td>\n",
       "      <td>NaN</td>\n",
       "      <td>1550000.0</td>\n",
       "      <td>ARS</td>\n",
       "      <td>garage</td>\n",
       "    </tr>\n",
       "  </tbody>\n",
       "</table>\n",
       "</div>"
      ],
      "text/plain": [
       "     created_on     city   neighborhood  rooms  bedrooms  bathrooms  \\\n",
       "37   2020-08-01  Córdoba  Nueva Córdoba    3.0       2.0        1.0   \n",
       "445  2020-06-01  Córdoba  Nueva Córdoba    NaN       NaN        NaN   \n",
       "\n",
       "     surface_total  surface_covered      price currency property_type  \n",
       "37             NaN              NaN  7500000.0      ARS     apartment  \n",
       "445            NaN              NaN  1550000.0      ARS        garage  "
      ]
     },
     "execution_count": 22,
     "metadata": {},
     "output_type": "execute_result"
    }
   ],
   "source": [
    "# before updating\n",
    "df[df.currency=='ARS'].head(2)"
   ]
  },
  {
   "cell_type": "code",
   "execution_count": 23,
   "metadata": {},
   "outputs": [],
   "source": [
    "def get_dollar_rate(current_currency, date, price):\n",
    "    if current_currency == 'ARS':\n",
    "        return price/currency[date] #currency is a dictionary with the date as key and conversion rate as the value\n",
    "    else:\n",
    "        return price\n",
    "df['price'] = df.apply(lambda x: get_dollar_rate(x['currency'], x['created_on'], x['price']), axis=1)"
   ]
  },
  {
   "cell_type": "code",
   "execution_count": 24,
   "metadata": {},
   "outputs": [
    {
     "data": {
      "text/html": [
       "<div>\n",
       "<style scoped>\n",
       "    .dataframe tbody tr th:only-of-type {\n",
       "        vertical-align: middle;\n",
       "    }\n",
       "\n",
       "    .dataframe tbody tr th {\n",
       "        vertical-align: top;\n",
       "    }\n",
       "\n",
       "    .dataframe thead th {\n",
       "        text-align: right;\n",
       "    }\n",
       "</style>\n",
       "<table border=\"1\" class=\"dataframe\">\n",
       "  <thead>\n",
       "    <tr style=\"text-align: right;\">\n",
       "      <th></th>\n",
       "      <th>created_on</th>\n",
       "      <th>city</th>\n",
       "      <th>neighborhood</th>\n",
       "      <th>rooms</th>\n",
       "      <th>bedrooms</th>\n",
       "      <th>bathrooms</th>\n",
       "      <th>surface_total</th>\n",
       "      <th>surface_covered</th>\n",
       "      <th>price</th>\n",
       "      <th>currency</th>\n",
       "      <th>property_type</th>\n",
       "    </tr>\n",
       "  </thead>\n",
       "  <tbody>\n",
       "    <tr>\n",
       "      <th>37</th>\n",
       "      <td>2020-08-01</td>\n",
       "      <td>Córdoba</td>\n",
       "      <td>Nueva Córdoba</td>\n",
       "      <td>3.0</td>\n",
       "      <td>2.0</td>\n",
       "      <td>1.0</td>\n",
       "      <td>NaN</td>\n",
       "      <td>NaN</td>\n",
       "      <td>103624.932789</td>\n",
       "      <td>ARS</td>\n",
       "      <td>apartment</td>\n",
       "    </tr>\n",
       "    <tr>\n",
       "      <th>445</th>\n",
       "      <td>2020-06-01</td>\n",
       "      <td>Córdoba</td>\n",
       "      <td>Nueva Córdoba</td>\n",
       "      <td>NaN</td>\n",
       "      <td>NaN</td>\n",
       "      <td>NaN</td>\n",
       "      <td>NaN</td>\n",
       "      <td>NaN</td>\n",
       "      <td>22600.791144</td>\n",
       "      <td>ARS</td>\n",
       "      <td>garage</td>\n",
       "    </tr>\n",
       "  </tbody>\n",
       "</table>\n",
       "</div>"
      ],
      "text/plain": [
       "     created_on     city   neighborhood  rooms  bedrooms  bathrooms  \\\n",
       "37   2020-08-01  Córdoba  Nueva Córdoba    3.0       2.0        1.0   \n",
       "445  2020-06-01  Córdoba  Nueva Córdoba    NaN       NaN        NaN   \n",
       "\n",
       "     surface_total  surface_covered          price currency property_type  \n",
       "37             NaN              NaN  103624.932789      ARS     apartment  \n",
       "445            NaN              NaN   22600.791144      ARS        garage  "
      ]
     },
     "execution_count": 24,
     "metadata": {},
     "output_type": "execute_result"
    }
   ],
   "source": [
    "# after updating\n",
    "df[df.currency=='ARS'].head(2)"
   ]
  },
  {
   "cell_type": "markdown",
   "metadata": {},
   "source": [
    "We can now drop currency column, as it is all USD."
   ]
  },
  {
   "cell_type": "code",
   "execution_count": 25,
   "metadata": {},
   "outputs": [],
   "source": [
    "# excluding from dataframe\n",
    "df = df.drop('currency', axis=1)"
   ]
  },
  {
   "cell_type": "markdown",
   "metadata": {},
   "source": [
    "### Getting Year, Month and Day from Date"
   ]
  },
  {
   "cell_type": "code",
   "execution_count": 26,
   "metadata": {},
   "outputs": [],
   "source": [
    "df['created_on'] = pd.to_datetime(df['created_on'], errors='coerce')\n",
    "\n",
    "df['created_on_year'] = df['created_on'].dt.year\n",
    "df['created_on_month'] = df['created_on'].dt.month\n",
    "df['created_on_day'] = df['created_on'].dt.day\n",
    "\n",
    "# excluding from dataframe\n",
    "df = df.drop('created_on', axis=1)"
   ]
  },
  {
   "cell_type": "markdown",
   "metadata": {},
   "source": [
    "### Response Variable"
   ]
  },
  {
   "cell_type": "code",
   "execution_count": 28,
   "metadata": {},
   "outputs": [
    {
     "data": {
      "image/png": "[encoded data removed]",
      "text/plain": [
       "<Figure size 432x288 with 1 Axes>"
      ]
     },
     "metadata": {
      "needs_background": "light"
     },
     "output_type": "display_data"
    }
   ],
   "source": [
    "# Rating\n",
    "import seaborn as sns\n",
    "sns.boxplot(x=\"price\", data = df);"
   ]
  },
  {
   "cell_type": "code",
   "execution_count": 36,
   "metadata": {},
   "outputs": [
    {
     "data": {
      "text/html": [
       "<div>\n",
       "<style scoped>\n",
       "    .dataframe tbody tr th:only-of-type {\n",
       "        vertical-align: middle;\n",
       "    }\n",
       "\n",
       "    .dataframe tbody tr th {\n",
       "        vertical-align: top;\n",
       "    }\n",
       "\n",
       "    .dataframe thead th {\n",
       "        text-align: right;\n",
       "    }\n",
       "</style>\n",
       "<table border=\"1\" class=\"dataframe\">\n",
       "  <thead>\n",
       "    <tr style=\"text-align: right;\">\n",
       "      <th></th>\n",
       "      <th>city</th>\n",
       "      <th>neighborhood</th>\n",
       "      <th>rooms</th>\n",
       "      <th>bedrooms</th>\n",
       "      <th>bathrooms</th>\n",
       "      <th>surface_total</th>\n",
       "      <th>surface_covered</th>\n",
       "      <th>price</th>\n",
       "      <th>property_type</th>\n",
       "      <th>created_on_year</th>\n",
       "      <th>created_on_month</th>\n",
       "      <th>created_on_day</th>\n",
       "    </tr>\n",
       "  </thead>\n",
       "  <tbody>\n",
       "    <tr>\n",
       "      <th>307</th>\n",
       "      <td>Córdoba</td>\n",
       "      <td>Alta Córdoba</td>\n",
       "      <td>1.0</td>\n",
       "      <td>NaN</td>\n",
       "      <td>NaN</td>\n",
       "      <td>NaN</td>\n",
       "      <td>42.0</td>\n",
       "      <td>4860000.0</td>\n",
       "      <td>apartment</td>\n",
       "      <td>2020</td>\n",
       "      <td>5</td>\n",
       "      <td>9</td>\n",
       "    </tr>\n",
       "    <tr>\n",
       "      <th>339</th>\n",
       "      <td>Córdoba</td>\n",
       "      <td>Centro</td>\n",
       "      <td>NaN</td>\n",
       "      <td>NaN</td>\n",
       "      <td>NaN</td>\n",
       "      <td>NaN</td>\n",
       "      <td>NaN</td>\n",
       "      <td>3200000.0</td>\n",
       "      <td>garage</td>\n",
       "      <td>2019</td>\n",
       "      <td>9</td>\n",
       "      <td>19</td>\n",
       "    </tr>\n",
       "    <tr>\n",
       "      <th>5556</th>\n",
       "      <td>Córdoba</td>\n",
       "      <td>General Paz</td>\n",
       "      <td>1.0</td>\n",
       "      <td>NaN</td>\n",
       "      <td>NaN</td>\n",
       "      <td>NaN</td>\n",
       "      <td>1.0</td>\n",
       "      <td>6035000.0</td>\n",
       "      <td>apartment</td>\n",
       "      <td>2020</td>\n",
       "      <td>6</td>\n",
       "      <td>18</td>\n",
       "    </tr>\n",
       "    <tr>\n",
       "      <th>6610</th>\n",
       "      <td>Córdoba</td>\n",
       "      <td>Nueva Córdoba</td>\n",
       "      <td>2.0</td>\n",
       "      <td>NaN</td>\n",
       "      <td>2.0</td>\n",
       "      <td>NaN</td>\n",
       "      <td>67.0</td>\n",
       "      <td>10800000.0</td>\n",
       "      <td>apartment</td>\n",
       "      <td>2020</td>\n",
       "      <td>7</td>\n",
       "      <td>9</td>\n",
       "    </tr>\n",
       "    <tr>\n",
       "      <th>7679</th>\n",
       "      <td>Córdoba</td>\n",
       "      <td>Nueva Córdoba</td>\n",
       "      <td>1.0</td>\n",
       "      <td>NaN</td>\n",
       "      <td>1.0</td>\n",
       "      <td>NaN</td>\n",
       "      <td>NaN</td>\n",
       "      <td>6750000.0</td>\n",
       "      <td>apartment</td>\n",
       "      <td>2020</td>\n",
       "      <td>9</td>\n",
       "      <td>10</td>\n",
       "    </tr>\n",
       "    <tr>\n",
       "      <th>...</th>\n",
       "      <td>...</td>\n",
       "      <td>...</td>\n",
       "      <td>...</td>\n",
       "      <td>...</td>\n",
       "      <td>...</td>\n",
       "      <td>...</td>\n",
       "      <td>...</td>\n",
       "      <td>...</td>\n",
       "      <td>...</td>\n",
       "      <td>...</td>\n",
       "      <td>...</td>\n",
       "      <td>...</td>\n",
       "    </tr>\n",
       "    <tr>\n",
       "      <th>43478</th>\n",
       "      <td>Córdoba</td>\n",
       "      <td>Nueva Córdoba</td>\n",
       "      <td>2.0</td>\n",
       "      <td>NaN</td>\n",
       "      <td>2.0</td>\n",
       "      <td>NaN</td>\n",
       "      <td>118.0</td>\n",
       "      <td>14500000.0</td>\n",
       "      <td>apartment</td>\n",
       "      <td>2020</td>\n",
       "      <td>2</td>\n",
       "      <td>25</td>\n",
       "    </tr>\n",
       "    <tr>\n",
       "      <th>43483</th>\n",
       "      <td>Córdoba</td>\n",
       "      <td>Centro</td>\n",
       "      <td>1.0</td>\n",
       "      <td>NaN</td>\n",
       "      <td>2.0</td>\n",
       "      <td>NaN</td>\n",
       "      <td>NaN</td>\n",
       "      <td>4600000.0</td>\n",
       "      <td>apartment</td>\n",
       "      <td>2020</td>\n",
       "      <td>2</td>\n",
       "      <td>25</td>\n",
       "    </tr>\n",
       "    <tr>\n",
       "      <th>43526</th>\n",
       "      <td>Córdoba</td>\n",
       "      <td>Nueva Córdoba</td>\n",
       "      <td>2.0</td>\n",
       "      <td>NaN</td>\n",
       "      <td>2.0</td>\n",
       "      <td>NaN</td>\n",
       "      <td>73.0</td>\n",
       "      <td>5460000.0</td>\n",
       "      <td>apartment</td>\n",
       "      <td>2020</td>\n",
       "      <td>2</td>\n",
       "      <td>25</td>\n",
       "    </tr>\n",
       "    <tr>\n",
       "      <th>46431</th>\n",
       "      <td>Córdoba</td>\n",
       "      <td>Nueva Córdoba</td>\n",
       "      <td>1.0</td>\n",
       "      <td>NaN</td>\n",
       "      <td>1.0</td>\n",
       "      <td>NaN</td>\n",
       "      <td>50.0</td>\n",
       "      <td>3800000.0</td>\n",
       "      <td>apartment</td>\n",
       "      <td>2020</td>\n",
       "      <td>4</td>\n",
       "      <td>3</td>\n",
       "    </tr>\n",
       "    <tr>\n",
       "      <th>47966</th>\n",
       "      <td>Córdoba</td>\n",
       "      <td>General Paz</td>\n",
       "      <td>2.0</td>\n",
       "      <td>1.0</td>\n",
       "      <td>1.0</td>\n",
       "      <td>55.0</td>\n",
       "      <td>40.0</td>\n",
       "      <td>5250000.0</td>\n",
       "      <td>apartment</td>\n",
       "      <td>2020</td>\n",
       "      <td>4</td>\n",
       "      <td>8</td>\n",
       "    </tr>\n",
       "  </tbody>\n",
       "</table>\n",
       "<p>102 rows × 12 columns</p>\n",
       "</div>"
      ],
      "text/plain": [
       "          city   neighborhood  rooms  bedrooms  bathrooms  surface_total  \\\n",
       "307    Córdoba   Alta Córdoba    1.0       NaN        NaN            NaN   \n",
       "339    Córdoba         Centro    NaN       NaN        NaN            NaN   \n",
       "5556   Córdoba    General Paz    1.0       NaN        NaN            NaN   \n",
       "6610   Córdoba  Nueva Córdoba    2.0       NaN        2.0            NaN   \n",
       "7679   Córdoba  Nueva Córdoba    1.0       NaN        1.0            NaN   \n",
       "...        ...            ...    ...       ...        ...            ...   \n",
       "43478  Córdoba  Nueva Córdoba    2.0       NaN        2.0            NaN   \n",
       "43483  Córdoba         Centro    1.0       NaN        2.0            NaN   \n",
       "43526  Córdoba  Nueva Córdoba    2.0       NaN        2.0            NaN   \n",
       "46431  Córdoba  Nueva Córdoba    1.0       NaN        1.0            NaN   \n",
       "47966  Córdoba    General Paz    2.0       1.0        1.0           55.0   \n",
       "\n",
       "       surface_covered       price property_type  created_on_year  \\\n",
       "307               42.0   4860000.0     apartment             2020   \n",
       "339                NaN   3200000.0        garage             2019   \n",
       "5556               1.0   6035000.0     apartment             2020   \n",
       "6610              67.0  10800000.0     apartment             2020   \n",
       "7679               NaN   6750000.0     apartment             2020   \n",
       "...                ...         ...           ...              ...   \n",
       "43478            118.0  14500000.0     apartment             2020   \n",
       "43483              NaN   4600000.0     apartment             2020   \n",
       "43526             73.0   5460000.0     apartment             2020   \n",
       "46431             50.0   3800000.0     apartment             2020   \n",
       "47966             40.0   5250000.0     apartment             2020   \n",
       "\n",
       "       created_on_month  created_on_day  \n",
       "307                   5               9  \n",
       "339                   9              19  \n",
       "5556                  6              18  \n",
       "6610                  7               9  \n",
       "7679                  9              10  \n",
       "...                 ...             ...  \n",
       "43478                 2              25  \n",
       "43483                 2              25  \n",
       "43526                 2              25  \n",
       "46431                 4               3  \n",
       "47966                 4               8  \n",
       "\n",
       "[102 rows x 12 columns]"
      ]
     },
     "execution_count": 36,
     "metadata": {},
     "output_type": "execute_result"
    }
   ],
   "source": [
    "df[df.price>3000000]"
   ]
  },
  {
   "cell_type": "code",
   "execution_count": 32,
   "metadata": {},
   "outputs": [
    {
     "data": {
      "text/plain": [
       "count    5.831000e+03\n",
       "mean     2.267324e+05\n",
       "std      8.558134e+05\n",
       "min      3.933770e+03\n",
       "25%      6.000000e+04\n",
       "50%      8.300000e+04\n",
       "75%      1.350000e+05\n",
       "max      1.450000e+07\n",
       "Name: price, dtype: float64"
      ]
     },
     "execution_count": 32,
     "metadata": {},
     "output_type": "execute_result"
    }
   ],
   "source": [
    "# summary stats\n",
    "df.price.describe()"
   ]
  },
  {
   "cell_type": "markdown",
   "metadata": {},
   "source": [
    "### Numeric Features"
   ]
  },
  {
   "cell_type": "code",
   "execution_count": 37,
   "metadata": {},
   "outputs": [],
   "source": [
    "import matplotlib.pyplot as plt \n",
    "import seaborn as sns\n",
    "numeric = ['rooms', 'bedrooms', 'bathrooms', 'surface_total', 'surface_covered']"
   ]
  },
  {
   "cell_type": "code",
   "execution_count": 38,
   "metadata": {},
   "outputs": [
    {
     "data": {
      "text/html": [
       "<div>\n",
       "<style scoped>\n",
       "    .dataframe tbody tr th:only-of-type {\n",
       "        vertical-align: middle;\n",
       "    }\n",
       "\n",
       "    .dataframe tbody tr th {\n",
       "        vertical-align: top;\n",
       "    }\n",
       "\n",
       "    .dataframe thead th {\n",
       "        text-align: right;\n",
       "    }\n",
       "</style>\n",
       "<table border=\"1\" class=\"dataframe\">\n",
       "  <thead>\n",
       "    <tr style=\"text-align: right;\">\n",
       "      <th></th>\n",
       "      <th>rooms</th>\n",
       "      <th>bedrooms</th>\n",
       "      <th>bathrooms</th>\n",
       "      <th>surface_total</th>\n",
       "      <th>surface_covered</th>\n",
       "    </tr>\n",
       "  </thead>\n",
       "  <tbody>\n",
       "    <tr>\n",
       "      <th>count</th>\n",
       "      <td>4609.000000</td>\n",
       "      <td>1943.00000</td>\n",
       "      <td>5118.000000</td>\n",
       "      <td>1371.000000</td>\n",
       "      <td>3731.000000</td>\n",
       "    </tr>\n",
       "    <tr>\n",
       "      <th>mean</th>\n",
       "      <td>2.117162</td>\n",
       "      <td>1.54246</td>\n",
       "      <td>1.397616</td>\n",
       "      <td>95.643326</td>\n",
       "      <td>90.448405</td>\n",
       "    </tr>\n",
       "    <tr>\n",
       "      <th>std</th>\n",
       "      <td>1.344899</td>\n",
       "      <td>0.97027</td>\n",
       "      <td>0.833612</td>\n",
       "      <td>290.510488</td>\n",
       "      <td>186.232269</td>\n",
       "    </tr>\n",
       "    <tr>\n",
       "      <th>min</th>\n",
       "      <td>1.000000</td>\n",
       "      <td>0.00000</td>\n",
       "      <td>1.000000</td>\n",
       "      <td>11.000000</td>\n",
       "      <td>-1.000000</td>\n",
       "    </tr>\n",
       "    <tr>\n",
       "      <th>25%</th>\n",
       "      <td>1.000000</td>\n",
       "      <td>1.00000</td>\n",
       "      <td>1.000000</td>\n",
       "      <td>46.000000</td>\n",
       "      <td>43.000000</td>\n",
       "    </tr>\n",
       "    <tr>\n",
       "      <th>50%</th>\n",
       "      <td>2.000000</td>\n",
       "      <td>1.00000</td>\n",
       "      <td>1.000000</td>\n",
       "      <td>58.000000</td>\n",
       "      <td>54.000000</td>\n",
       "    </tr>\n",
       "    <tr>\n",
       "      <th>75%</th>\n",
       "      <td>3.000000</td>\n",
       "      <td>2.00000</td>\n",
       "      <td>2.000000</td>\n",
       "      <td>86.000000</td>\n",
       "      <td>80.000000</td>\n",
       "    </tr>\n",
       "    <tr>\n",
       "      <th>max</th>\n",
       "      <td>22.000000</td>\n",
       "      <td>17.00000</td>\n",
       "      <td>16.000000</td>\n",
       "      <td>10000.000000</td>\n",
       "      <td>4500.000000</td>\n",
       "    </tr>\n",
       "  </tbody>\n",
       "</table>\n",
       "</div>"
      ],
      "text/plain": [
       "             rooms    bedrooms    bathrooms  surface_total  surface_covered\n",
       "count  4609.000000  1943.00000  5118.000000    1371.000000      3731.000000\n",
       "mean      2.117162     1.54246     1.397616      95.643326        90.448405\n",
       "std       1.344899     0.97027     0.833612     290.510488       186.232269\n",
       "min       1.000000     0.00000     1.000000      11.000000        -1.000000\n",
       "25%       1.000000     1.00000     1.000000      46.000000        43.000000\n",
       "50%       2.000000     1.00000     1.000000      58.000000        54.000000\n",
       "75%       3.000000     2.00000     2.000000      86.000000        80.000000\n",
       "max      22.000000    17.00000    16.000000   10000.000000      4500.000000"
      ]
     },
     "execution_count": 38,
     "metadata": {},
     "output_type": "execute_result"
    }
   ],
   "source": [
    "df[numeric].describe()"
   ]
  },
  {
   "cell_type": "code",
   "execution_count": 39,
   "metadata": {},
   "outputs": [
    {
     "data": {
      "text/html": [
       "<div>\n",
       "<style scoped>\n",
       "    .dataframe tbody tr th:only-of-type {\n",
       "        vertical-align: middle;\n",
       "    }\n",
       "\n",
       "    .dataframe tbody tr th {\n",
       "        vertical-align: top;\n",
       "    }\n",
       "\n",
       "    .dataframe thead th {\n",
       "        text-align: right;\n",
       "    }\n",
       "</style>\n",
       "<table border=\"1\" class=\"dataframe\">\n",
       "  <thead>\n",
       "    <tr style=\"text-align: right;\">\n",
       "      <th></th>\n",
       "      <th>city</th>\n",
       "      <th>neighborhood</th>\n",
       "      <th>rooms</th>\n",
       "      <th>bedrooms</th>\n",
       "      <th>bathrooms</th>\n",
       "      <th>surface_total</th>\n",
       "      <th>surface_covered</th>\n",
       "      <th>price</th>\n",
       "      <th>property_type</th>\n",
       "      <th>created_on_year</th>\n",
       "      <th>created_on_month</th>\n",
       "      <th>created_on_day</th>\n",
       "    </tr>\n",
       "  </thead>\n",
       "  <tbody>\n",
       "    <tr>\n",
       "      <th>7699</th>\n",
       "      <td>Córdoba</td>\n",
       "      <td>Centro</td>\n",
       "      <td>1.0</td>\n",
       "      <td>0.0</td>\n",
       "      <td>16.0</td>\n",
       "      <td>NaN</td>\n",
       "      <td>NaN</td>\n",
       "      <td>1685800.0</td>\n",
       "      <td>office</td>\n",
       "      <td>2020</td>\n",
       "      <td>9</td>\n",
       "      <td>10</td>\n",
       "    </tr>\n",
       "    <tr>\n",
       "      <th>7706</th>\n",
       "      <td>Córdoba</td>\n",
       "      <td>Centro</td>\n",
       "      <td>1.0</td>\n",
       "      <td>0.0</td>\n",
       "      <td>13.0</td>\n",
       "      <td>NaN</td>\n",
       "      <td>NaN</td>\n",
       "      <td>1556000.0</td>\n",
       "      <td>office</td>\n",
       "      <td>2020</td>\n",
       "      <td>9</td>\n",
       "      <td>10</td>\n",
       "    </tr>\n",
       "    <tr>\n",
       "      <th>34068</th>\n",
       "      <td>Córdoba</td>\n",
       "      <td>Alberdi</td>\n",
       "      <td>NaN</td>\n",
       "      <td>17.0</td>\n",
       "      <td>14.0</td>\n",
       "      <td>NaN</td>\n",
       "      <td>48.0</td>\n",
       "      <td>420000.0</td>\n",
       "      <td>store</td>\n",
       "      <td>2020</td>\n",
       "      <td>8</td>\n",
       "      <td>10</td>\n",
       "    </tr>\n",
       "  </tbody>\n",
       "</table>\n",
       "</div>"
      ],
      "text/plain": [
       "          city neighborhood  rooms  bedrooms  bathrooms  surface_total  \\\n",
       "7699   Córdoba       Centro    1.0       0.0       16.0            NaN   \n",
       "7706   Córdoba       Centro    1.0       0.0       13.0            NaN   \n",
       "34068  Córdoba      Alberdi    NaN      17.0       14.0            NaN   \n",
       "\n",
       "       surface_covered      price property_type  created_on_year  \\\n",
       "7699               NaN  1685800.0        office             2020   \n",
       "7706               NaN  1556000.0        office             2020   \n",
       "34068             48.0   420000.0         store             2020   \n",
       "\n",
       "       created_on_month  created_on_day  \n",
       "7699                  9              10  \n",
       "7706                  9              10  \n",
       "34068                 8              10  "
      ]
     },
     "execution_count": 39,
     "metadata": {},
     "output_type": "execute_result"
    }
   ],
   "source": [
    "df[(df.bedrooms > 15) | (df.bathrooms > 10)]"
   ]
  },
  {
   "cell_type": "markdown",
   "metadata": {},
   "source": [
    "We might want to exclude these records, it seems to much bedrooms and bathrooms for an office or a store."
   ]
  },
  {
   "cell_type": "code",
   "execution_count": 40,
   "metadata": {},
   "outputs": [],
   "source": [
    "df = df[(df.bedrooms < 15) | (df.bathrooms < 10)]"
   ]
  },
  {
   "cell_type": "markdown",
   "metadata": {},
   "source": [
    "Next we plot the numeric explanatory features vs the reponse."
   ]
  },
  {
   "cell_type": "code",
   "execution_count": 42,
   "metadata": {},
   "outputs": [
    {
     "data": {
      "image/png": "[encoded data removed]",
      "text/plain": [
       "<Figure size 1080x720 with 5 Axes>"
      ]
     },
     "metadata": {
      "needs_background": "light"
     },
     "output_type": "display_data"
    }
   ],
   "source": [
    "#define a figure to which we will add histogram of each attribute.\n",
    "plt.figure(figsize=(15,10))\n",
    "\n",
    "#use an index to identify the spot of the subplot\n",
    "j = 1\n",
    "\n",
    "# Columns\n",
    "for k in numeric: #for each numeric column in the dataframe        \n",
    "    plt.subplot(2,3,j)\n",
    "    sns.scatterplot(x=k, y = \"price\", data = df)\n",
    "    plt.title(k + \" Distribution\");\n",
    "    j = j + 1 #add 1 to go to the next subplot space\n",
    "\n",
    "#show results\n",
    "plt.tight_layout()\n",
    "plt.show();"
   ]
  },
  {
   "cell_type": "markdown",
   "metadata": {},
   "source": [
    "### Create Dummy Columns"
   ]
  },
  {
   "cell_type": "code",
   "execution_count": null,
   "metadata": {},
   "outputs": [],
   "source": [
    "dummies = ['city', 'neighborhood']\n",
    "df_dummies = pd.get_dummies(df, columns = dummies, drop_first=True)"
   ]
  },
  {
   "cell_type": "code",
   "execution_count": null,
   "metadata": {},
   "outputs": [],
   "source": []
  }
 ],
 "metadata": {
  "kernelspec": {
   "display_name": "Python 3",
   "language": "python",
   "name": "python3"
  },
  "language_info": {
   "codemirror_mode": {
    "name": "ipython",
    "version": 3
   },
   "file_extension": ".py",
   "mimetype": "text/x-python",
   "name": "python",
   "nbconvert_exporter": "python",
   "pygments_lexer": "ipython3",
   "version": "3.7.3"
  }
 },
 "nbformat": 4,
 "nbformat_minor": 4
}
